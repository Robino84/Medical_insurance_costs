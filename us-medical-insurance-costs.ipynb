{
 "cells": [
  {
   "cell_type": "markdown",
   "metadata": {},
   "source": [
    "\n",
    "\n",
    "# U.S. Medical Insurance Costs"
   ]
  },
  {
   "cell_type": "code",
   "execution_count": 48,
   "metadata": {},
   "outputs": [],
   "source": [
    "#Importing the CSV-File. Then creating a list with info about all individuals in the dataset \n",
    "\n",
    "import csv\n",
    "\n",
    "list = []\n",
    "\n",
    "with open('insurance.csv', newline = \"\") as csvfile:\n",
    "    csv_data = csv.DictReader(csvfile)\n",
    "    for row in csv_data:\n",
    "        list.append(row)\n",
    "        "
   ]
  },
  {
   "cell_type": "code",
   "execution_count": 49,
   "metadata": {},
   "outputs": [
    {
     "name": "stdout",
     "output_type": "stream",
     "text": [
      "The max age is 64 years.\n",
      "The min age is 18 years.\n",
      "The average age is 39 years.\n"
     ]
    }
   ],
   "source": [
    "#Find the average, min and max age of the individuals in the dataset\n",
    "\n",
    "def age(list):\n",
    "    ages = []\n",
    "    for i in list:\n",
    "        ages.append(int(i[\"age\"]))\n",
    "    max_age = max(ages)\n",
    "    min_age = min(ages)\n",
    "    average_age = round(sum(ages) / len(ages)) \n",
    "    print(\"The max age is \" + str(max_age) +\" years.\")\n",
    "    print(\"The min age is \" +str(min_age) +\" years.\")\n",
    "    print(\"The average age is \" +str(average_age) +\" years.\")\n",
    "\n",
    "age(list)"
   ]
  },
  {
   "cell_type": "code",
   "execution_count": 50,
   "metadata": {},
   "outputs": [
    {
     "name": "stdout",
     "output_type": "stream",
     "text": [
      "{'southwest': 325, 'southeast': 364, 'northwest': 325, 'northeast': 324}\n",
      "The largest region in the dataset is southeast\n"
     ]
    }
   ],
   "source": [
    "#Analyze where the individuals are from.\n",
    "\n",
    "#In the function, first create a dictionary with regions as keys and the number of individuals in the regions as values \n",
    "\n",
    "def reg(list):\n",
    "    regions = {}\n",
    "    for i in list:\n",
    "        if i[\"region\"] in regions:\n",
    "            regions[i[\"region\"]] += 1 \n",
    "        else:\n",
    "            regions[i[\"region\"]] = 1 \n",
    "\n",
    "# find the maximum \n",
    "\n",
    "    max_region = 'southeast'\n",
    "    max_region_count = 0\n",
    "    \n",
    "    for area in regions:\n",
    "        if regions[area] > max_region_count:\n",
    "            max_region = area\n",
    "            max_region_count = regions[area]\n",
    "            \n",
    "    print(regions)\n",
    "    print(\"The largest region in the dataset is \" + max_region)\n",
    "    \n",
    "            \n",
    "reg(list)\n",
    "\n"
   ]
  },
  {
   "cell_type": "code",
   "execution_count": 51,
   "metadata": {},
   "outputs": [
    {
     "name": "stdout",
     "output_type": "stream",
     "text": [
      "The average cost for smokers is 32050 and for non-smokers it is 8434.\n",
      "The difference is equal to 23616.\n"
     ]
    }
   ],
   "source": [
    "#Look at the different costs between smokers vs. non-smokers.\n",
    "\n",
    "#first calculate the total costs and number of smokers/non-smokers\n",
    "\n",
    "def smoker_costs(list):\n",
    "    \n",
    "    total_cost_smokers = 0\n",
    "    total_cost_non_smokers = 0\n",
    "    smokers = 0\n",
    "    non_smokers = 0\n",
    "    \n",
    "    for i in list:\n",
    "        if i[\"smoker\"] == \"yes\":\n",
    "            total_cost_smokers += float(i[\"charges\"]) \n",
    "            smokers += 1\n",
    "        else: \n",
    "            total_cost_non_smokers += float(i[\"charges\"]) \n",
    "            non_smokers += 1 \n",
    "            \n",
    "    # calculate the average for each group \n",
    "    \n",
    "    average_cost_smokers = round(total_cost_smokers / smokers)\n",
    "    average_cost_non_smokers = round(total_cost_non_smokers / non_smokers)\n",
    "    \n",
    "    print(\"The average cost for smokers is \" +str(average_cost_smokers) +\" and for non-smokers it is \" +str(average_cost_non_smokers) +\".\")\n",
    "    print(\"The difference is equal to \" +str(average_cost_smokers - average_cost_non_smokers) +\".\" )\n",
    "    \n",
    "\n",
    "smoker_costs(list)\n"
   ]
  },
  {
   "cell_type": "code",
   "execution_count": 52,
   "metadata": {},
   "outputs": [
    {
     "name": "stdout",
     "output_type": "stream",
     "text": [
      "The average age for someone who has at least one child in the dataset is 40 years.\n"
     ]
    }
   ],
   "source": [
    "#Figure out what the average age is for someone who has at least one child in the dataset. \n",
    "\n",
    "def average_age_parents(list):\n",
    "    \n",
    "    #calculate the total age for parents and the number of parents\n",
    "    \n",
    "    total_age = 0\n",
    "    parents = 0\n",
    "    for i in list:\n",
    "        if int(i[\"children\"]) > 0:\n",
    "            total_age += int(i[\"age\"])\n",
    "            parents += 1 \n",
    "    \n",
    "    # find the average age  \n",
    "    \n",
    "    average_age = round(total_age / parents)\n",
    "    \n",
    "    print(\"The average age for someone who has at least one child in the dataset is \" +str(average_age) +\" years.\")\n",
    "    \n",
    "average_age_parents(list)"
   ]
  },
  {
   "cell_type": "code",
   "execution_count": 53,
   "metadata": {},
   "outputs": [
    {
     "name": "stdout",
     "output_type": "stream",
     "text": [
      "The average cost for males is 13957 and for women it is 12570.\n",
      "The difference is equal to 1387.\n"
     ]
    }
   ],
   "source": [
    "#Look at the different costs between females vs. males.\n",
    "\n",
    "#first calculate the total costs and number of males/females \n",
    "\n",
    "def gender_costs(list):\n",
    "    \n",
    "    total_cost_males = 0\n",
    "    total_cost_females = 0\n",
    "    males = 0\n",
    "    females = 0\n",
    "    \n",
    "    for i in list:\n",
    "        if i[\"sex\"] == \"male\":\n",
    "            total_cost_males += float(i[\"charges\"]) \n",
    "            males += 1\n",
    "        else: \n",
    "            total_cost_females += float(i[\"charges\"]) \n",
    "            females += 1 \n",
    "            \n",
    "    # calculate the average for each category\n",
    "    \n",
    "    average_cost_males = round(total_cost_males / males)\n",
    "    average_cost_females = round(total_cost_females / females)\n",
    "    \n",
    "    print(\"The average cost for males is \" +str(average_cost_males) +\" and for women it is \" +str(average_cost_females) +\".\")\n",
    "    print(\"The difference is equal to \" +str(average_cost_males - average_cost_females) +\".\" )\n",
    "    \n",
    "\n",
    "gender_costs(list)"
   ]
  },
  {
   "cell_type": "code",
   "execution_count": 54,
   "metadata": {},
   "outputs": [
    {
     "name": "stdout",
     "output_type": "stream",
     "text": [
      "Average cost underweight: 8852\n",
      "Average cost normal weight: 10379\n",
      "Average cost overweight: 11018\n",
      "Average cost obesity: 15449\n",
      "The difference between obesity and underweight is 6597.\n"
     ]
    }
   ],
   "source": [
    "#Look at the costs between different bmi groups  \n",
    "\n",
    "#first calculate the total costs and the numbers in each group \n",
    "\n",
    "\"\"\"\n",
    "If your BMI is less than 18.5, it falls within the underweight range.\n",
    "If your BMI is 18.5 to <25, it falls within the normal weight range.\n",
    "If your BMI is 25.0 to <30, it falls within the overweight range.\n",
    "If your BMI is 30.0 or higher, it falls within the obesity range.\n",
    "\"\"\"\n",
    "\n",
    "def bmi_costs(list):\n",
    "    \n",
    "    total_cost_underweight = 0\n",
    "    total_cost_normal = 0\n",
    "    total_cost_overweight = 0\n",
    "    total_cost_obesity = 0\n",
    "    \n",
    "    underweight = 0\n",
    "    normal = 0\n",
    "    overweight = 0\n",
    "    obesity = 0\n",
    "    \n",
    "    for i in list:\n",
    "        if float(i[\"bmi\"]) < 18.5:\n",
    "            total_cost_underweight += float(i[\"charges\"]) \n",
    "            underweight += 1\n",
    "        elif float(i[\"bmi\"]) >= 18.5 and float(i[\"bmi\"]) < 24.9:\n",
    "            total_cost_normal += float(i[\"charges\"]) \n",
    "            normal += 1 \n",
    "        elif float(i[\"bmi\"]) >= 25 and float(i[\"bmi\"]) < 29.9:\n",
    "            total_cost_overweight += float(i[\"charges\"]) \n",
    "            overweight += 1\n",
    "        else: \n",
    "            total_cost_obesity += float(i[\"charges\"]) \n",
    "            obesity += 1 \n",
    "            \n",
    "    # calculate the average for each group \n",
    "    \n",
    "    average_cost_underweight = round(total_cost_underweight / underweight)\n",
    "    average_cost_normal = round(total_cost_normal / normal)\n",
    "    average_cost_overweight = round(total_cost_overweight / overweight)\n",
    "    average_cost_obesity = round(total_cost_obesity / obesity)\n",
    "    \n",
    "    print(\"Average cost underweight: \" +str(average_cost_underweight))\n",
    "    print(\"Average cost normal weight: \" +str(average_cost_normal))\n",
    "    print(\"Average cost overweight: \" +str(average_cost_overweight))\n",
    "    print(\"Average cost obesity: \" +str(average_cost_obesity))\n",
    "    print(\"The difference between obesity and underweight is \" +str(average_cost_obesity - average_cost_underweight) +\".\")\n",
    "    \n",
    "\n",
    "bmi_costs(list)"
   ]
  },
  {
   "cell_type": "code",
   "execution_count": 55,
   "metadata": {},
   "outputs": [
    {
     "name": "stdout",
     "output_type": "stream",
     "text": [
      "The average cost for someone who has at least one child in the dataset is 13950.\n",
      "The average cost for someone who has no children is 12366.\n"
     ]
    }
   ],
   "source": [
    "#Look at the costs for people without children vs people with children \n",
    "\n",
    "def costs_children(list):\n",
    "    \n",
    "    #calculate the number of persons with at least one child and their total costs, and the same for persons without children \n",
    "    \n",
    "    no_children_costs = 0\n",
    "    children_costs = 0\n",
    "    no_children = 0 \n",
    "    parents = 0 \n",
    "    for i in list:\n",
    "        if int(i[\"children\"]) > 0:\n",
    "            children_costs += float(i[\"charges\"])\n",
    "            parents += 1 \n",
    "        else:\n",
    "            no_children_costs += float(i[\"charges\"]) \n",
    "            no_children += 1 \n",
    "    \n",
    "    # find the average cost for each group \n",
    "    \n",
    "    average_children = round(children_costs / parents)\n",
    "    average_no_children = round(no_children_costs / no_children)\n",
    "    \n",
    "    print(\"The average cost for someone who has at least one child in the dataset is \" +str(average_children) +\".\")\n",
    "    print(\"The average cost for someone who has no children is \" +str(average_no_children) +\".\")\n",
    "    \n",
    "costs_children(list)\n",
    "\n"
   ]
  },
  {
   "cell_type": "code",
   "execution_count": 56,
   "metadata": {},
   "outputs": [
    {
     "name": "stdout",
     "output_type": "stream",
     "text": [
      "The average cost for people between 18 and 29 in the dataset is 9182.\n",
      "The average cost for people between 30 and 39 in the dataset is 11739.\n",
      "The average cost for people between 40 and 49 in the dataset is 14399.\n",
      "The average cost for people 50+ in the dataset is 17903.\n",
      "The difference between the youngest and oldest group is 8721.\n"
     ]
    }
   ],
   "source": [
    "#Look at the costs between different age groups\n",
    "\n",
    "#divide into the following groups. 18-29, 30-39, 40-49, 50+ \n",
    "\n",
    "def age_costs(list):\n",
    "    age_18_29 = 0\n",
    "    nr_18_29 = 0\n",
    "    age_30_39 = 0\n",
    "    nr_30_39 = 0\n",
    "    age_40_49 = 0\n",
    "    nr_40_49 = 0\n",
    "    age_50 = 0\n",
    "    nr_50 = 0\n",
    "    for i in list:\n",
    "        if int(i[\"age\"]) >= 18 and int(i[\"age\"]) < 30:\n",
    "            age_18_29 += float(i[\"charges\"])\n",
    "            nr_18_29 += 1 \n",
    "        elif int(i[\"age\"]) >= 30 and int(i[\"age\"]) < 40:\n",
    "            age_30_39 += float(i[\"charges\"])\n",
    "            nr_30_39 += 1 \n",
    "        elif int(i[\"age\"]) >= 40 and int(i[\"age\"]) < 50:\n",
    "            age_40_49 += float(i[\"charges\"])\n",
    "            nr_40_49 += 1  \n",
    "        else: \n",
    "            age_50 += float(i[\"charges\"])\n",
    "            nr_50 += 1\n",
    "            \n",
    "    # calculate the average for each group \n",
    "    \n",
    "    average_18_29 = round(age_18_29 / nr_18_29) \n",
    "    average_30_39 = round(age_30_39 / nr_30_39) \n",
    "    average_40_49 = round(age_40_49 / nr_40_49) \n",
    "    average_50 = round(age_50 / nr_50) \n",
    "    \n",
    "    print(\"The average cost for people between 18 and 29 in the dataset is \" +str(average_18_29) +\".\")\n",
    "    print(\"The average cost for people between 30 and 39 in the dataset is \" +str(average_30_39) +\".\")\n",
    "    print(\"The average cost for people between 40 and 49 in the dataset is \" +str(average_40_49) +\".\")\n",
    "    print(\"The average cost for people 50+ in the dataset is \" +str(average_50) +\".\")\n",
    "    print(\"The difference between the youngest and oldest group is \" +str(average_50 - average_18_29) +\".\")\n",
    "     \n",
    "age_costs(list)\n",
    "       \n"
   ]
  },
  {
   "cell_type": "code",
   "execution_count": 57,
   "metadata": {},
   "outputs": [
    {
     "name": "stdout",
     "output_type": "stream",
     "text": [
      "The average cost for people from the southwest in the dataset is 12347.\n",
      "The average cost for people from the southeast in the dataset is 14735.\n",
      "The average cost for people from the northwest in the dataset is 12418.\n",
      "The average cost for people from the northeast in the dataset is 13406.\n"
     ]
    }
   ],
   "source": [
    "#Look at the costs between different regions \n",
    "\n",
    "# calculate the nr of individuals in each region and the total costs \n",
    "\n",
    "def reg_costs(list):\n",
    "    southwest_costs = 0\n",
    "    southwest_nr = 0\n",
    "    southeast_costs = 0\n",
    "    southeast_nr = 0\n",
    "    northwest_costs = 0 \n",
    "    northwest_nr = 0\n",
    "    northeast_costs = 0\n",
    "    northeast_nr = 0 \n",
    "    for i in list:\n",
    "        if i[\"region\"] == \"southwest\":\n",
    "            southwest_costs += float(i[\"charges\"])\n",
    "            southwest_nr += 1 \n",
    "        elif i[\"region\"] == \"southeast\":\n",
    "            southeast_costs += float(i[\"charges\"])\n",
    "            southeast_nr += 1  \n",
    "        elif i[\"region\"] == \"northwest\":\n",
    "            northwest_costs += float(i[\"charges\"])\n",
    "            northwest_nr += 1   \n",
    "        else: \n",
    "            northeast_costs += float(i[\"charges\"]) \n",
    "            northeast_nr += 1  \n",
    "            \n",
    "    # calculate the average for each group \n",
    "    \n",
    "    southwest_avg = round(southwest_costs / southwest_nr)\n",
    "    southeast_avg = round(southeast_costs / southeast_nr)\n",
    "    northwest_avg = round(northwest_costs / northwest_nr) \n",
    "    northeast_avg = round(northeast_costs / northeast_nr) \n",
    "        \n",
    "    print(\"The average cost for people from the southwest in the dataset is \" +str(southwest_avg) +\".\")\n",
    "    print(\"The average cost for people from the southeast in the dataset is \" +str(southeast_avg) +\".\")\n",
    "    print(\"The average cost for people from the northwest in the dataset is \" +str(northwest_avg) +\".\")\n",
    "    print(\"The average cost for people from the northeast in the dataset is \" +str(northeast_avg) +\".\")\n",
    "\n",
    "     \n",
    "reg_costs(list)  "
   ]
  },
  {
   "cell_type": "code",
   "execution_count": 58,
   "metadata": {},
   "outputs": [
    {
     "name": "stdout",
     "output_type": "stream",
     "text": [
      "Smoker status was very influential. The difference in average between smokers and non-smokers was 23'616.\n",
      "Age was important. The difference in average between the youngest and oldest group was 8'721.\n",
      "BMI was also influential. The difference in average between persons with obesity vs underweight was 6'597.\n"
     ]
    }
   ],
   "source": [
    "#Make predictions about what features are the most influential for an individual’s medical insurance charges based on your analysis. \n",
    " \n",
    "print(\"Smoker status was very influential. The difference in average between smokers and non-smokers was 23'616.\")\n",
    "print(\"Age was important. The difference in average between the youngest and oldest group was 8'721.\") \n",
    "print(\"BMI was also influential. The difference in average between persons with obesity vs underweight was 6'597.\")"
   ]
  }
 ],
 "metadata": {
  "kernelspec": {
   "display_name": "Python 3 (ipykernel)",
   "language": "python",
   "name": "python3"
  },
  "language_info": {
   "codemirror_mode": {
    "name": "ipython",
    "version": 3
   },
   "file_extension": ".py",
   "mimetype": "text/x-python",
   "name": "python",
   "nbconvert_exporter": "python",
   "pygments_lexer": "ipython3",
   "version": "3.9.13"
  }
 },
 "nbformat": 4,
 "nbformat_minor": 4
}
